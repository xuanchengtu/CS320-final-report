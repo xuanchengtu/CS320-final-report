{
 "cells": [
  {
   "cell_type": "code",
   "execution_count": 1,
   "metadata": {},
   "outputs": [
    {
     "name": "stdout",
     "output_type": "stream",
     "text": [
      "0.8143618112110822\n",
      "Coefficient: \n",
      " [ 0.13502646  0.98420417 -0.2250367  -0.29920912  0.03519395]\n",
      "Intercept: \n",
      " -1.25756301388539\n",
      "5.901941326151943 [7 7 3 0 0] 8\n",
      "7.030522043559241 [ 9  7  2  0 18] 6\n",
      "5.8277688980510005 [7 7 2 1 0] 0\n",
      "8.852405248756366 [10  9  2  0 10] 10\n",
      "13.941970115219492 [15 14  3  0  2] 15\n",
      "12.018555783191845 [12 12  1  0  2] 14\n",
      "8.646990889115484 [9 9 2 0 8] 9\n",
      "13.413939766328875 [15 14  3  2  4] 15\n",
      "9.364742887241018 [ 9  9  1  0 22] 9\n",
      "6.113105026864409 [7 7 3 0 6] 7\n",
      "10.738927013119401 [12 11  2  0  0] 12\n",
      "15.286237444457841 [16 15  2  0  2] 15\n",
      "12.707335359863087 [12 13  2  0  0] 14\n",
      "9.625445721415748 [10 10  2  0  4] 10\n",
      "16.959221194500927 [16 17  3  0  0] 17\n",
      "13.712860487603033 [12 14  3  0  7] 14\n",
      "9.619696380344163 [11 10  2  0  0] 10\n",
      "8.300800728999624 [8 9 2 0 2] 10\n",
      "4.164319016942949 [6 5 2 0 4] 6\n",
      "5.068601421142268 [7 6 1 1 0] 0\n",
      "12.84236181926648 [13 13  2  0  0] 12\n",
      "11.723131186491244 [12 12  2  0  0] 11\n",
      "12.358996602236122 [14 12  1  0  4] 11\n",
      "-0.9107738395621026 [12  0  3  2  0] 0\n",
      "11.754274413084277 [14 12  4  0  6] 13\n",
      "15.567789045407798 [16 15  2  0 10] 15\n",
      "14.881158066247659 [13 15  2  0  2] 16\n",
      "11.88352932378845 [11 12  1  0  2] 11\n",
      "5.669335573961925 [7 7 2 2 4] 9\n",
      "9.420031361774862 [ 9 10  2  0  2] 10\n",
      "11.368817371696323 [10 12  3  0  4] 12\n",
      "6.057816552330564 [ 7  6  2  0 26] 6\n",
      "15.15121098505445 [15 15  2  0  2] 16\n",
      "15.221598885291938 [15 15  2  0  4] 15\n",
      "7.533509597411831 [ 7  8  2  0 12] 8\n",
      "7.952461971372658 [10  8  1  0  6] 11\n",
      "15.646300600324347 [17 15  1  0  2] 15\n",
      "5.99195156321166 [6 7 2 0 0] 0\n",
      "8.455449525225246 [8 9 1 0 0] 8\n",
      "7.316596555627781 [8 8 2 0 2] 8\n"
     ]
    }
   ],
   "source": [
    "import pandas as pd\n",
    "import numpy as np\n",
    "import sklearn\n",
    "from sklearn import linear_model\n",
    "from sklearn.utils import shuffle\n",
    "\n",
    "data = pd.read_csv(\"student-mat.csv\", sep=\";\")\n",
    "\n",
    "data = data[[\"G1\", \"G2\", \"G3\", \"studytime\", \"failures\", \"absences\"]]\n",
    "\n",
    "predict = \"G3\"\n",
    "\n",
    "X = np.array(data.drop([predict], 1))\n",
    "y = np.array(data[predict])\n",
    "\n",
    "x_train, x_test, y_train, y_test = sklearn.model_selection.train_test_split(X, y, test_size = 0.1)\n",
    "\n",
    "linear = linear_model.LinearRegression()\n",
    "\n",
    "linear.fit(x_train, y_train)\n",
    "acc = linear.score(x_test, y_test)\n",
    "print(acc)\n",
    "\n",
    "print('Coefficient: \\n', linear.coef_)\n",
    "print('Intercept: \\n', linear.intercept_)\n",
    "\n",
    "predictions = linear.predict(x_test)\n",
    "\n",
    "for x in range(len(predictions)):\n",
    "    print(predictions[x], x_test[x], y_test[x])"
   ]
  },
  {
   "cell_type": "code",
   "execution_count": null,
   "metadata": {},
   "outputs": [],
   "source": []
  }
 ],
 "metadata": {
  "kernelspec": {
   "display_name": "Python 3",
   "language": "python",
   "name": "python3"
  },
  "language_info": {
   "codemirror_mode": {
    "name": "ipython",
    "version": 3
   },
   "file_extension": ".py",
   "mimetype": "text/x-python",
   "name": "python",
   "nbconvert_exporter": "python",
   "pygments_lexer": "ipython3",
   "version": "3.7.6"
  }
 },
 "nbformat": 4,
 "nbformat_minor": 4
}
